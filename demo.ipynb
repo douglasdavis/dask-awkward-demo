{
 "cells": [
  {
   "cell_type": "markdown",
   "id": "48e04593-54c2-4fa8-99da-0b4482a520da",
   "metadata": {},
   "source": [
    "# dask-awkward: Early Status Demo\n",
    "\n",
    "**This is a demo of pre-release software!**\n",
    "\n",
    "The [dask-awkward](https://github.com/ContinuumIO/dask-awkward) project provides a native Dask collection and recreation of the Awkward Array API with Dask compatibility."
   ]
  },
  {
   "cell_type": "code",
   "execution_count": null,
   "id": "caa78dd7-44cf-4fb3-90cb-1b23db756dca",
   "metadata": {},
   "outputs": [],
   "source": [
    "import awkward._v2 as ak\n",
    "import dask_awkward as dak\n",
    "import distributed\n",
    "import fsspec"
   ]
  },
  {
   "cell_type": "markdown",
   "id": "3009c8d7-3583-40ee-a4a9-81846a8930fb",
   "metadata": {},
   "source": [
    " We're going to use Dask's distributed execution engine so we can see the computation in action with either the [distributed dashboard](https://docs.dask.org/en/stable/diagnostics-distributed.html) or Dask's [jupyterlab extension](https://github.com/dask/dask-labextension)."
   ]
  },
  {
   "cell_type": "code",
   "execution_count": null,
   "id": "4b67c958-8b57-40d5-96cc-0f39515e4dec",
   "metadata": {},
   "outputs": [],
   "source": [
    "client = distributed.Client()\n",
    "client"
   ]
  },
  {
   "cell_type": "markdown",
   "id": "498726bb-fb2c-48e4-96c2-ba884dc36f0a",
   "metadata": {},
   "source": [
    "## Toy dataset"
   ]
  },
  {
   "cell_type": "markdown",
   "id": "b65ded5a-f819-4eca-bc0a-049391ee53f8",
   "metadata": {},
   "source": [
    "For the demo we'll use a dataset of Higgs bosons decaying to two $Z$-bosons decaying leptonically to muons ($H\\rightarrow ZZ \\rightarrow\\mu\\mu\\mu\\mu$). In this simulated physics sample all 4 muons are not always detected, so we will have non-rectilinear data. We have 50 compressed files containing line delimeted JSON records (one record is one event, many records per file). We'll use a wildcard to grab all of them.\n",
    "\n",
    "The current state of dask-awkward supports reading JSON files via `dak.from_json`."
   ]
  },
  {
   "cell_type": "markdown",
   "id": "e030ed1f-7eb7-468b-8a24-b1b670d21ac3",
   "metadata": {},
   "source": [
    "First we'll eagerly load a small part of the dataset to see what data we're working with:"
   ]
  },
  {
   "cell_type": "code",
   "execution_count": null,
   "id": "cacf3483-6282-4d5d-957e-0e1cafb7e977",
   "metadata": {},
   "outputs": [],
   "source": [
    "import ujson as json\n",
    "\n",
    "single_file = \"./data/higgs.000.json.gz\"\n",
    "with fsspec.open(single_file, compression=\"infer\") as f:\n",
    "    eager = ak.from_iter([json.loads(line) for line in f])"
   ]
  },
  {
   "cell_type": "code",
   "execution_count": null,
   "id": "199e9b58-37ea-4a9c-8465-5ce8c8a984b0",
   "metadata": {},
   "outputs": [],
   "source": [
    "eager"
   ]
  },
  {
   "cell_type": "code",
   "execution_count": null,
   "id": "9eb55e75-1370-48d3-99a2-520b67565a3f",
   "metadata": {},
   "outputs": [],
   "source": [
    "eager[10].tolist()"
   ]
  },
  {
   "cell_type": "code",
   "execution_count": null,
   "id": "e87d2930-6afd-4cef-953e-539901be2500",
   "metadata": {},
   "outputs": [],
   "source": [
    "eager[ak.num(eager.muons, axis=1) == 4]"
   ]
  },
  {
   "cell_type": "markdown",
   "id": "c8fcbf95-53df-4f87-b34a-0b755d4e8281",
   "metadata": {},
   "source": [
    "Now let's stage loading the whole dataset with dask-awkward."
   ]
  },
  {
   "cell_type": "code",
   "execution_count": null,
   "id": "86ff2170-a613-4591-93d7-a3294a728b71",
   "metadata": {},
   "outputs": [],
   "source": [
    "dataset = dak.from_json(\"./data/higgs*json.gz\")"
   ]
  },
  {
   "cell_type": "code",
   "execution_count": null,
   "id": "8a5f88be-c2e2-4be3-b935-322e32a4dc1f",
   "metadata": {},
   "outputs": [],
   "source": [
    "dataset"
   ]
  },
  {
   "cell_type": "markdown",
   "id": "09f2488a-a06e-4272-ac67-a963f317526b",
   "metadata": {},
   "source": [
    "We see that we have a dask-awkward collection containing 50 partitions (one for each file)"
   ]
  },
  {
   "cell_type": "markdown",
   "id": "a2f75169-172e-4489-80a8-28cd5fc09ee4",
   "metadata": {},
   "source": [
    "# High level analysis example"
   ]
  },
  {
   "cell_type": "markdown",
   "id": "44698fcb-ee3d-48d8-826f-093e05a716ca",
   "metadata": {},
   "source": [
    "We'll build up a task graph with the following steps:\n",
    "- Check how many muons are in each event.\n",
    "- Create a boolean array for events with exactly two opposite sign opposite flavor muons\n",
    "- Grab events from the original dataset passing that selection.\n",
    "- Calculate the invariant mass of the pair.\n",
    "- Histogram that value."
   ]
  },
  {
   "cell_type": "markdown",
   "id": "256e2640-d1e1-474a-8bbe-be0934ce7e46",
   "metadata": {},
   "source": [
    "`dak.num` is the dask-awkward version of `ak.num`"
   ]
  },
  {
   "cell_type": "code",
   "execution_count": null,
   "id": "cdacbeac-494f-40ad-9eb4-90706f3466eb",
   "metadata": {},
   "outputs": [],
   "source": [
    "# check the total number of muons in each event\n",
    "n_muons = dak.num(dataset.muons, axis=1)"
   ]
  },
  {
   "cell_type": "code",
   "execution_count": null,
   "id": "980151b2-f2d9-4f28-b673-883c25740e50",
   "metadata": {},
   "outputs": [],
   "source": [
    "n_muons.visualize()"
   ]
  },
  {
   "cell_type": "markdown",
   "id": "1583fa27-7163-4570-be2d-4d10e9e9ddcc",
   "metadata": {},
   "source": [
    "Much of the awkward slicing/getitem API is supported; we'll use that for defining the selection"
   ]
  },
  {
   "cell_type": "code",
   "execution_count": null,
   "id": "7a621a0a-d12c-40e4-8465-1be2a6db65fe",
   "metadata": {},
   "outputs": [],
   "source": [
    "n_muons.dask.visualize()"
   ]
  },
  {
   "cell_type": "code",
   "execution_count": null,
   "id": "95ffeee5-55e5-4ff1-9168-056b16c5ba3d",
   "metadata": {},
   "outputs": [],
   "source": [
    "n_muons.dask.visualize(color=\"layer_type\")"
   ]
  },
  {
   "cell_type": "code",
   "execution_count": null,
   "id": "cd848901-09e2-4012-97d1-1eada9491313",
   "metadata": {},
   "outputs": [],
   "source": [
    "muon_pairs = dataset.muons[n_muons == 2]\n",
    "oppo_sign = muon_pairs.charge[:, 0] + muon_pairs.charge[:, 1] == 0\n",
    "selected_muons = muon_pairs[oppo_sign]"
   ]
  },
  {
   "cell_type": "code",
   "execution_count": null,
   "id": "369357f5-88b2-43f1-97f5-fe3ba3c8de3f",
   "metadata": {},
   "outputs": [],
   "source": [
    "selected_muons.visualize()"
   ]
  },
  {
   "cell_type": "code",
   "execution_count": null,
   "id": "4c301655-2ad0-43cd-8174-6ba2499d216c",
   "metadata": {},
   "outputs": [],
   "source": [
    "selected_muons.dask.visualize(color=\"layer_type\")"
   ]
  },
  {
   "cell_type": "code",
   "execution_count": null,
   "id": "64c96d29-f250-4f94-81a9-a4e0e5145826",
   "metadata": {},
   "outputs": [],
   "source": [
    "mu1 = selected_muons[:, 0]\n",
    "mu2 = selected_muons[:, 1]"
   ]
  },
  {
   "cell_type": "code",
   "execution_count": null,
   "id": "afc1e6df-4196-4ef9-a22e-caeca80c4fbe",
   "metadata": {},
   "outputs": [],
   "source": [
    "m = np.sqrt(\n",
    "    mu1.pt * mu2.pt * 2 * (np.cosh(mu1.eta - mu2.eta) - np.cos(mu1.phi - mu2.phi))\n",
    ")"
   ]
  },
  {
   "cell_type": "code",
   "execution_count": null,
   "id": "ac678aeb-222a-4294-8337-f3dbe53f55f3",
   "metadata": {},
   "outputs": [],
   "source": [
    "m.dask.visualize()"
   ]
  },
  {
   "cell_type": "code",
   "execution_count": null,
   "id": "e7f0899d-0a36-4816-a446-766dafc4da54",
   "metadata": {},
   "outputs": [],
   "source": [
    "import dask_histogram as dh\n",
    "import boost_histogram as bh\n",
    "\n",
    "h = dh.histogram(\n",
    "    m,\n",
    "    bins=120,\n",
    "    range=(0, 120),\n",
    "    histogram=bh.Histogram,\n",
    ")"
   ]
  },
  {
   "cell_type": "code",
   "execution_count": null,
   "id": "999d9ad1-84bf-426d-8bab-45987e197cd7",
   "metadata": {},
   "outputs": [],
   "source": [
    "h.visualize(optimize_graph=True)"
   ]
  },
  {
   "cell_type": "code",
   "execution_count": null,
   "id": "229dcba7-bb9a-4436-af28-b82382bc7666",
   "metadata": {},
   "outputs": [],
   "source": [
    "import hist\n",
    "h = hist.Hist(h.compute())\n",
    "h.plot1d()"
   ]
  },
  {
   "cell_type": "markdown",
   "id": "838ebd0f-d0d8-45b3-97e5-25bd2955f0c4",
   "metadata": {
    "tags": []
   },
   "source": [
    "## Some other features, looking ahead.\n",
    "\n",
    "We'd like to fail as quickly as possibly (i.e. before compute time), when we have enough knowledge about the expected structure of the concrete awkward array that would result from the dask-awkward collection, we can do that."
   ]
  },
  {
   "cell_type": "code",
   "execution_count": null,
   "id": "77614dd5-90bd-4236-a8df-6aac60e1f81d",
   "metadata": {},
   "outputs": [],
   "source": [
    "dataset.fields"
   ]
  },
  {
   "cell_type": "code",
   "execution_count": null,
   "id": "76f566d9-3dd1-4b51-9f31-ad73367694a8",
   "metadata": {},
   "outputs": [],
   "source": [
    "dataset.muons.fields"
   ]
  },
  {
   "cell_type": "code",
   "execution_count": null,
   "id": "0220bd28-3d35-4ff5-83f1-1bcea1e466c3",
   "metadata": {},
   "outputs": [],
   "source": [
    "dataset.muons[[\"pt\", \"eta\", \"energy\"]]  # will raise _before_ compute time thanks to the typetracer knowing the fields."
   ]
  },
  {
   "cell_type": "code",
   "execution_count": null,
   "id": "754b32e7-80ef-48c6-8ea4-1db2c7644fec",
   "metadata": {},
   "outputs": [],
   "source": [
    "dataset.muons[[\"pt\", \"eta\"]] # this works"
   ]
  },
  {
   "cell_type": "code",
   "execution_count": null,
   "id": "406352e1-01ea-4f63-9280-9d0c8e1d052f",
   "metadata": {},
   "outputs": [],
   "source": [
    "selection1 = dataset.muons.charge[:, 0] = dataset.muons.charge[:, 1] == 0"
   ]
  }
 ],
 "metadata": {
  "kernelspec": {
   "display_name": "Python 3 (ipykernel)",
   "language": "python",
   "name": "python3"
  },
  "language_info": {
   "codemirror_mode": {
    "name": "ipython",
    "version": 3
   },
   "file_extension": ".py",
   "mimetype": "text/x-python",
   "name": "python",
   "nbconvert_exporter": "python",
   "pygments_lexer": "ipython3",
   "version": "3.9.11"
  }
 },
 "nbformat": 4,
 "nbformat_minor": 5
}
